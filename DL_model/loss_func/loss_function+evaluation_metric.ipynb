{
 "cells": [
  {
   "cell_type": "markdown",
   "id": "c08ecebc",
   "metadata": {},
   "source": [
    "# customized loss function"
   ]
  },
  {
   "cell_type": "code",
   "execution_count": null,
   "id": "da24ffab",
   "metadata": {},
   "outputs": [],
   "source": [
    "import tensorflow as tf\n",
    "\n",
    "def custom_cross_entropy_loss(y_true, y_pred):\n",
    "    # Clip predicted values to avoid numerical instability\n",
    "    y_pred = tf.clip_by_value(y_pred, tf.keras.backend.epsilon(), 1 - tf.keras.backend.epsilon())\n",
    "\n",
    "    # Compute cross entropy loss\n",
    "    loss = -tf.reduce_sum(y_true * tf.math.log(y_pred), axis=-1)\n",
    "    loss /= tf.cast(tf.shape(y_true)[-1], dtype=loss.dtype)  # Divide by number of classes\n",
    "\n",
    "    return loss\n",
    "\n",
    "# Dense layer의 output level에서의 activation function: softmax\n",
    "# 모델 컴파일 시 사용예시: model.compile(optimizer='adam', loss=custom_cross_entropy_loss, metrics=['RMSE'])\n"
   ]
  },
  {
   "cell_type": "markdown",
   "id": "430522de",
   "metadata": {},
   "source": [
    "# evaluation metric\n"
   ]
  },
  {
   "cell_type": "code",
   "execution_count": null,
   "id": "8ea3cae8",
   "metadata": {},
   "outputs": [],
   "source": [
    "#Scikit-Learn 라이브러리와 같은 라이브러리를 사용하는 경우, RMSE(Root Mean Squared Error)등의\n",
    "#성능 평가 지표는 다중 출력 회귀 문제에 대해서도 자동으로 잘 계산된다고 함. 따라서 RMSE를 사용하면 된다."
   ]
  }
 ],
 "metadata": {
  "kernelspec": {
   "display_name": "Python 3 (ipykernel)",
   "language": "python",
   "name": "python3"
  },
  "language_info": {
   "codemirror_mode": {
    "name": "ipython",
    "version": 3
   },
   "file_extension": ".py",
   "mimetype": "text/x-python",
   "name": "python",
   "nbconvert_exporter": "python",
   "pygments_lexer": "ipython3",
   "version": "3.10.10"
  }
 },
 "nbformat": 4,
 "nbformat_minor": 5
}
